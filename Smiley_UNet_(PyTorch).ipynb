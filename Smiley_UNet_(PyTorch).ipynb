{
  "nbformat": 4,
  "nbformat_minor": 0,
  "metadata": {
    "colab": {
      "name": "Smiley UNet (PyTorch)",
      "provenance": [],
      "authorship_tag": "ABX9TyNfrUDWOZBlmzvzrKqM9Rka",
      "include_colab_link": true
    },
    "kernelspec": {
      "name": "python3",
      "display_name": "Python 3"
    },
    "accelerator": "GPU"
  },
  "cells": [
    {
      "cell_type": "markdown",
      "metadata": {
        "id": "view-in-github",
        "colab_type": "text"
      },
      "source": [
        "<a href=\"https://colab.research.google.com/github/wherzberg/CNN-Introduction/blob/main/Smiley_UNet_(PyTorch).ipynb\" target=\"_parent\"><img src=\"https://colab.research.google.com/assets/colab-badge.svg\" alt=\"Open In Colab\"/></a>"
      ]
    },
    {
      "cell_type": "markdown",
      "metadata": {
        "id": "KsPfbglnxykG"
      },
      "source": [
        "# Smiley Image U-Net (PyTorch)\r\n",
        "\r\n",
        "* Created by Billy Herzberg\r\n",
        "* william.herzberg@marquette.edu\r\n",
        "\r\n",
        "This notebook will replicate the Smiley Image U-Net project that was done in Tensorflow only this time, the PyTorch framework will be used instead. Additional features that were not implemented in the TensorFlow notebook will be used here."
      ]
    },
    {
      "cell_type": "code",
      "metadata": {
        "colab": {
          "base_uri": "https://localhost:8080/"
        },
        "id": "ywKxmbrjxnN7",
        "outputId": "586745b2-72a2-420a-828e-dbf8d1de3eb8"
      },
      "source": [
        "import torch\r\n",
        "print(\"Using PyTorch version\",torch.__version__)\r\n",
        "\r\n",
        "import numpy as np\r\n",
        "import matplotlib.pyplot as plt\r\n",
        "import matplotlib        as mpl                 # There are a few other things needed from matplotlib\r\n",
        "from tabulate import tabulate\r\n",
        "import time\r\n",
        "import copy"
      ],
      "execution_count": 1,
      "outputs": [
        {
          "output_type": "stream",
          "text": [
            "Using PyTorch version 1.7.0+cu101\n"
          ],
          "name": "stdout"
        }
      ]
    },
    {
      "cell_type": "markdown",
      "metadata": {
        "id": "jCZ8dtdjynGR"
      },
      "source": [
        "# Simulate Data\r\n",
        "\r\n",
        "The data will be simulated using the function defined below and then it will be converted from numpy array into a tensor. Tensors are used because the data will be passed to a GPU device later. An additional function will be defined to plot samples from the dataset"
      ]
    },
    {
      "cell_type": "code",
      "metadata": {
        "colab": {
          "base_uri": "https://localhost:8080/"
        },
        "id": "AN4bwNQEy6aj",
        "outputId": "1adc4a5f-f424-49cb-8b7b-c50811797aa9"
      },
      "source": [
        "def genData(N,n,m,p,A,B):\r\n",
        "    # This function will generate a data set of blurry smiley face images\r\n",
        "    # Inputs:\r\n",
        "    # -> N = Number of samples\r\n",
        "    # -> n = height of the images\r\n",
        "    # -> m = width of the images\r\n",
        "    # -> p = probability of a smiley face\r\n",
        "    # -> A = magnitude of the smiley feature\r\n",
        "    # -> B = standard deviation of the blurry noise\r\n",
        "    # Outputs:\r\n",
        "    # -> data = dictionary with X and Y\r\n",
        "    #       X = a [N,n,m,1] array of input image samples\r\n",
        "    #       Y = a [N,n,m,1] array of truth image samples\r\n",
        "\r\n",
        "    # Start by building the blurry backgrounds for X and a vector of 0's for Y\r\n",
        "    X = np.random.normal(loc=0,scale=B,size=[N,1,n,m])\r\n",
        "    Y = np.ones(shape=[N,1,n,m])*0.9\r\n",
        "\r\n",
        "    # Then loop through each sample and maybe put a smiley\r\n",
        "    for k in range(N):\r\n",
        "\r\n",
        "        r = np.random.uniform()\r\n",
        "        if r < p: # We need to add a smiley\r\n",
        "            \r\n",
        "            # Find the top left corner of the smiley\r\n",
        "            row = np.random.randint(low=1,high=(n-3))\r\n",
        "            col = np.random.randint(low=1,high=(m-3))\r\n",
        "\r\n",
        "            # Then increase the values at the eyes and mouth\r\n",
        "            X[k,0,row  ,col  ] += A\r\n",
        "            X[k,0,row  ,col+2] += A\r\n",
        "            X[k,0,row+2,col  ] += A\r\n",
        "            X[k,0,row+2,col+1] += A\r\n",
        "            X[k,0,row+2,col+2] += A\r\n",
        "\r\n",
        "            # Also if a smiley was placed, put a ring in the output\r\n",
        "            val = 0.5\r\n",
        "            Y[k,0,row  ,col  ] = val\r\n",
        "            Y[k,0,row  ,col+1] = val\r\n",
        "            Y[k,0,row  ,col+2] = val\r\n",
        "            Y[k,0,row+1,col  ] = val\r\n",
        "            Y[k,0,row+1,col+2] = val\r\n",
        "            Y[k,0,row+2,col  ] = val\r\n",
        "            Y[k,0,row+2,col+1] = val\r\n",
        "            Y[k,0,row+2,col+2] = val\r\n",
        "\r\n",
        "    # Now prepare the output as a dictionary and return\r\n",
        "    data = {\r\n",
        "        'X': X,\r\n",
        "        'Y': Y\r\n",
        "    }\r\n",
        "    return data\r\n",
        "\r\n",
        "print(\"genData is defined\")"
      ],
      "execution_count": 2,
      "outputs": [
        {
          "output_type": "stream",
          "text": [
            "genData is defined\n"
          ],
          "name": "stdout"
        }
      ]
    },
    {
      "cell_type": "code",
      "metadata": {
        "colab": {
          "base_uri": "https://localhost:8080/"
        },
        "id": "nQlcYvSwzHoq",
        "outputId": "c54c1d7a-783c-4f87-a313-edb574773da4"
      },
      "source": [
        "def displaySample(X,Ypred,Y,k,A,B):\r\n",
        "    # This function will display one sample of input and output data\r\n",
        "    # Inputs:\r\n",
        "    # ->     X = a [N,1,n,m] array of input image samples\r\n",
        "    # -> Ypred = a [N,1,n,m] array of output image samples\r\n",
        "    # ->     Y = a [N,1,n,m] array of truth image samples\r\n",
        "    # ->     k = the sample number to display\r\n",
        "\r\n",
        "\r\n",
        "    # Pick out the sample\r\n",
        "    x =     X[k,0,:,:].squeeze()\r\n",
        "    p = Ypred[k,0,:,:].squeeze()\r\n",
        "    y =     Y[k,0,:,:].squeeze()\r\n",
        "    \r\n",
        "    # Use ggplot style for plots:\r\n",
        "    with plt.style.context('ggplot'):\r\n",
        "        \r\n",
        "        # Set up the figure and axes\r\n",
        "        fig, axs = plt.subplots(1,3,figsize=(15,5))\r\n",
        "\r\n",
        "        # Set the norm and colormap\r\n",
        "        norm0 = mpl.colors.Normalize(vmin=-3*B, vmax=3*B+A)\r\n",
        "        norm1 = mpl.colors.Normalize(vmin=0, vmax=1)\r\n",
        "        cmap='YlGnBu'\r\n",
        "\r\n",
        "        # Display the images\r\n",
        "        axs[0].imshow(x, norm=norm0, cmap=cmap)\r\n",
        "        axs[0].set_title('Input')\r\n",
        "        axs[0].axis('off')\r\n",
        "        fig.colorbar(plt.cm.ScalarMappable(norm=norm0, cmap=cmap), ax=axs[0], orientation='horizontal', shrink=0.75)\r\n",
        "        axs[1].imshow(p, norm=norm1, cmap=cmap)\r\n",
        "        axs[1].set_title('Output')\r\n",
        "        axs[1].axis('off')\r\n",
        "        fig.colorbar(plt.cm.ScalarMappable(norm=norm1, cmap=cmap), ax=axs[1], orientation='horizontal', shrink=0.75)\r\n",
        "        axs[2].imshow(y, norm=norm1, cmap=cmap)\r\n",
        "        axs[2].set_title('Truth')\r\n",
        "        axs[2].axis('off')\r\n",
        "        fig.colorbar(plt.cm.ScalarMappable(norm=norm1, cmap=cmap), ax=axs[2], orientation='horizontal', shrink=0.75)\r\n",
        "        plt.show()\r\n",
        "        \r\n",
        "print(\"displaySample is defined\")"
      ],
      "execution_count": 3,
      "outputs": [
        {
          "output_type": "stream",
          "text": [
            "displaySample is defined\n"
          ],
          "name": "stdout"
        }
      ]
    },
    {
      "cell_type": "code",
      "metadata": {
        "colab": {
          "base_uri": "https://localhost:8080/"
        },
        "id": "gOR_6aIS0Sfj",
        "outputId": "67b6b786-63c4-48d1-efb8-3d424103920f"
      },
      "source": [
        "# Simulate the data here\r\n",
        "N = 500    # Number of samples\r\n",
        "n = 12     # Height\r\n",
        "m = 12     # Width\r\n",
        "p = 0.5    # Probability of a smiley\r\n",
        "A = 5      # Amplitude of smiley\r\n",
        "B = 1      # Standard deviation of normal noise\r\n",
        "data = genData(N,n,m,p,A,B)\r\n",
        "X = data['X']    # Input images\r\n",
        "Y = data['Y']    # Truth images\r\n",
        "\r\n",
        "# Display shapes and a sample\r\n",
        "print(\"The shape of X:\", data['X'].shape)\r\n",
        "print(\"The shape of Y:\", data['Y'].shape)"
      ],
      "execution_count": 4,
      "outputs": [
        {
          "output_type": "stream",
          "text": [
            "The shape of X: (500, 1, 12, 12)\n",
            "The shape of Y: (500, 1, 12, 12)\n"
          ],
          "name": "stdout"
        }
      ]
    },
    {
      "cell_type": "code",
      "metadata": {
        "colab": {
          "base_uri": "https://localhost:8080/",
          "height": 1000
        },
        "id": "OSNJXYzE0XJI",
        "outputId": "be2879df-8de3-4fc9-8a3f-166f68c05393"
      },
      "source": [
        "# Display a few samples\r\n",
        "for k in [0,1,2,3]:\r\n",
        "    displaySample(X,np.zeros(shape=X.shape),Y,k,A,B)"
      ],
      "execution_count": 5,
      "outputs": [
        {
          "output_type": "display_data",
          "data": {
            "image/png": "[encoded data removed]",
            "text/plain": [
              "<Figure size 1080x360 with 6 Axes>"
            ]
          },
          "metadata": {
            "tags": []
          }
        },
        {
          "output_type": "display_data",
          "data": {
            "image/png": "[encoded data removed]",
            "text/plain": [
              "<Figure size 1080x360 with 6 Axes>"
            ]
          },
          "metadata": {
            "tags": []
          }
        },
        {
          "output_type": "display_data",
          "data": {
            "image/png": "[encoded data removed]",
            "text/plain": [
              "<Figure size 1080x360 with 6 Axes>"
            ]
          },
          "metadata": {
            "tags": []
          }
        },
        {
          "output_type": "display_data",
          "data": {
            "image/png": "[encoded data removed]",
            "text/plain": [
              "<Figure size 1080x360 with 6 Axes>"
            ]
          },
          "metadata": {
            "tags": []
          }
        }
      ]
    },
    {
      "cell_type": "code",
      "metadata": {
        "colab": {
          "base_uri": "https://localhost:8080/"
        },
        "id": "uGeQh1P41EWd",
        "outputId": "0c90be30-78dc-4c6f-e1ec-fa819cc571f9"
      },
      "source": [
        "# Convert the data into tensors\r\n",
        "X = torch.Tensor( X )\r\n",
        "Y = torch.Tensor( Y )\r\n",
        "print(\"Now X and Y are tensors\")\r\n",
        "print(X.shape)\r\n",
        "print(Y.shape)\r\n",
        "# scipy.io loads .mat files in as a dictionary of np arrays so this is an easy \r\n",
        "# way to convert those arrays into tensors."
      ],
      "execution_count": 6,
      "outputs": [
        {
          "output_type": "stream",
          "text": [
            "Now X and Y are tensors\n",
            "torch.Size([500, 1, 12, 12])\n",
            "torch.Size([500, 1, 12, 12])\n"
          ],
          "name": "stdout"
        }
      ]
    },
    {
      "cell_type": "code",
      "metadata": {
        "colab": {
          "base_uri": "https://localhost:8080/"
        },
        "id": "nq5uXXol2KXc",
        "outputId": "e1565ca4-6a57-45a3-b7dc-e23cd626d358"
      },
      "source": [
        "# We can still slice tensors to split data into training and validation sets\r\n",
        "train_size = 400\r\n",
        "X_tr = X[           :train_size, :, :, : ]\r\n",
        "X_va = X[ train_size:          , :, :, : ]\r\n",
        "Y_tr = Y[           :train_size, :, :, : ]\r\n",
        "Y_va = Y[ train_size:          , :, :, : ]\r\n",
        "\r\n",
        "# Display shapes\r\n",
        "print(\"The shape of X_tr:\", X_tr.shape)\r\n",
        "print(\"The shape of X_va:\", X_va.shape)\r\n",
        "print(\"The shape of Y_tr:\", Y_tr.shape)\r\n",
        "print(\"The shape of Y_va:\", Y_va.shape)"
      ],
      "execution_count": 7,
      "outputs": [
        {
          "output_type": "stream",
          "text": [
            "The shape of X_tr: torch.Size([400, 1, 12, 12])\n",
            "The shape of X_va: torch.Size([100, 1, 12, 12])\n",
            "The shape of Y_tr: torch.Size([400, 1, 12, 12])\n",
            "The shape of Y_va: torch.Size([100, 1, 12, 12])\n"
          ],
          "name": "stdout"
        }
      ]
    },
    {
      "cell_type": "markdown",
      "metadata": {
        "id": "Mi7t-caI2W1L"
      },
      "source": [
        "# Build a Model\r\n",
        "\r\n",
        "Building a model is little bit different in PyTorch. I know how to do it but not necessarily why. There is also a tool called nn.ModuleList which allows you to pass the number of layers as input which could be helpful if you want to change the depth of the Unet as you go. I wasn't sure exactly how to implement here though"
      ]
    },
    {
      "cell_type": "markdown",
      "metadata": {
        "id": "GE9ZjeWd538V"
      },
      "source": [
        "The layers we want are as follows:\r\n",
        "\r\n",
        "\r\n",
        "```\r\n",
        "1 - Convolution(        1 in,   CHAN out, 3x3 kernel, 1x1 stride, padding, relu )\r\n",
        "2 - Max Pool(                             2x2 kernel, 2x2 stride )\r\n",
        "3 - Convolution(     CHAN in, 2xCHAN out, 3x3 kernel, 1x1 stride, padding, relu )\r\n",
        "4 - TransposeConv( 2xCHAN in,   CHAN out, 2x2 kernel, 2x2 stride,          relu )\r\n",
        "5 - Concatenate()\r\n",
        "6 - Convolution(   2xCHAN in,   CHAN out, 3x3 kernel, 1x1 stride, padding, relu )\r\n",
        "7 - Convolution(     CHAN in,      1 out, 3x3 kernel, 1x1 stride, padding, None )\r\n",
        "```\r\n",
        "\r\n"
      ]
    },
    {
      "cell_type": "code",
      "metadata": {
        "colab": {
          "base_uri": "https://localhost:8080/"
        },
        "id": "DAfbPGlY2WCh",
        "outputId": "c1834755-383c-4341-8eb9-de07e0583c13"
      },
      "source": [
        "# Define the model using a class\r\n",
        "class MyUNetModel(torch.nn.Module):\r\n",
        "    \r\n",
        "    # Args you want to give to the model go with self\r\n",
        "    def __init__(self, chan, kern ):\r\n",
        "        # Not sure what super is but this line is the same with class name updated\r\n",
        "        super(MyUNetModel, self).__init__()\r\n",
        "\r\n",
        "        # feed the Args to the self\r\n",
        "        self.chan = chan\r\n",
        "        self.kern = kern\r\n",
        "\r\n",
        "        # Define the layers here (Check docs for other inputs) (They don't need to be in order here)\r\n",
        "        self.layer_1 = torch.nn.Conv2d(                    1,   self.chan, self.kern, stride=1, padding=1 )\r\n",
        "        self.layer_2 = torch.nn.MaxPool2d(                                         2,        2            )\r\n",
        "        self.layer_3 = torch.nn.Conv2d(            self.chan, 2*self.chan, self.kern, stride=1, padding=1 )\r\n",
        "        self.layer_4 = torch.nn.ConvTranspose2d( 2*self.chan,   self.chan,         2, stride=2,           )\r\n",
        "        self.layer_5 = torch.nn.Conv2d(          2*self.chan,   self.chan, self.kern, stride=1, padding=1 )\r\n",
        "        self.layer_6 = torch.nn.Conv2d(            self.chan,           1, self.kern, stride=1, padding=1 )\r\n",
        "\r\n",
        "    # Now define how the forward pass looks\r\n",
        "    def forward(self, x): # Note that x is the input data\r\n",
        "        x1 = torch.nn.functional.relu( self.layer_1(x) ) # Note how activation is implemented here\r\n",
        "        x2 = self.layer_2(x1)\r\n",
        "        x3 = torch.nn.functional.relu( self.layer_3(x2) )\r\n",
        "        x4 = torch.nn.functional.relu( self.layer_4(x3) )\r\n",
        "        x5 = torch.cat((x1,x4), dim=1)         # This doesn't need a layer defined above\r\n",
        "        x6 = torch.nn.functional.relu( self.layer_5(x5) )\r\n",
        "        y  = self.layer_6(x6)\r\n",
        "        return y\r\n",
        "print(\"MyUNetModel() is defined\")"
      ],
      "execution_count": 8,
      "outputs": [
        {
          "output_type": "stream",
          "text": [
            "MyUNetModel() is defined\n"
          ],
          "name": "stdout"
        }
      ]
    },
    {
      "cell_type": "code",
      "metadata": {
        "colab": {
          "base_uri": "https://localhost:8080/"
        },
        "id": "ZN24iIMe_pEB",
        "outputId": "b1783549-ab14-4f3d-cd3f-86364ceab418"
      },
      "source": [
        "# Now we can build a model and print it\r\n",
        "model = MyUNetModel(2,3)\r\n",
        "# Note that the print function doesn't give a nice summary...\r\n",
        "print(model)"
      ],
      "execution_count": 9,
      "outputs": [
        {
          "output_type": "stream",
          "text": [
            "MyUNetModel(\n",
            "  (layer_1): Conv2d(1, 2, kernel_size=(3, 3), stride=(1, 1), padding=(1, 1))\n",
            "  (layer_2): MaxPool2d(kernel_size=2, stride=2, padding=0, dilation=1, ceil_mode=False)\n",
            "  (layer_3): Conv2d(2, 4, kernel_size=(3, 3), stride=(1, 1), padding=(1, 1))\n",
            "  (layer_4): ConvTranspose2d(4, 2, kernel_size=(2, 2), stride=(2, 2))\n",
            "  (layer_5): Conv2d(4, 2, kernel_size=(3, 3), stride=(1, 1), padding=(1, 1))\n",
            "  (layer_6): Conv2d(2, 1, kernel_size=(3, 3), stride=(1, 1), padding=(1, 1))\n",
            ")\n"
          ],
          "name": "stdout"
        }
      ]
    },
    {
      "cell_type": "code",
      "metadata": {
        "id": "ualU8rZAADKA"
      },
      "source": [
        "# Define a function for a nice summary\r\n",
        "# Note that the nested for loops allow for nested module lists to still be accepted\r\n",
        "def modelSummary(model, names=True):\r\n",
        "    all_rows = []\r\n",
        "    all_weights = list(model.parameters())\r\n",
        "    counter1 = 1\r\n",
        "    counter2 = 1\r\n",
        "    headers = [\"Num.\",\"Layer\",\"Weights\",\"Biases\"]\r\n",
        "\r\n",
        "    for c1_name, c1 in model.named_children():\r\n",
        "        l = 0\r\n",
        "        ll = 0\r\n",
        "        for c2_name, c2 in c1.children():\r\n",
        "            l+=1\r\n",
        "            ll = 0\r\n",
        "            for c3_name, c3 in c2.children():\r\n",
        "                ll+=1\r\n",
        "                lll = 0\r\n",
        "                for c4_name, c4 in c3.childre():\r\n",
        "                    lll+=1\r\n",
        "                if lll == 0:\r\n",
        "                    row = [counter1]\r\n",
        "                    counter1+=1\r\n",
        "                    row.append(c3_name) if names else row.append(c3)\r\n",
        "                    if len(list(c3.parameters())) > 0:\r\n",
        "                        row.append(all_weights[2*counter2-2].numel())\r\n",
        "                        row.append(all_weights[2*counter2-1].numel())\r\n",
        "                        all_rows.append(row)\r\n",
        "                        counter2+=1\r\n",
        "                    else:\r\n",
        "                        row.append(0)\r\n",
        "                        row.append(0)\r\n",
        "                        all_rows.append(row)\r\n",
        "            if ll == 0:\r\n",
        "                row = [counter1]\r\n",
        "                counter1+=1\r\n",
        "                row.append(c2_name) if names else row.append(c2)\r\n",
        "                if len(list(c2.parameters())) > 0:\r\n",
        "                    row.append(all_weights[2*counter2-2].numel())\r\n",
        "                    row.append(all_weights[2*counter2-1].numel())\r\n",
        "                    all_rows.append(row)\r\n",
        "                    counter2+=1\r\n",
        "                else:\r\n",
        "                    row.append(0)\r\n",
        "                    row.append(0)\r\n",
        "                    all_rows.append(row)\r\n",
        "        if l+ll == 0 :\r\n",
        "            row = [counter1]\r\n",
        "            counter1+=1\r\n",
        "            row.append(c1_name) if names else row.append(c1)\r\n",
        "            if len(list(c1.parameters())) > 0:\r\n",
        "                row.append(all_weights[2*counter2-2].numel())\r\n",
        "                row.append(all_weights[2*counter2-1].numel())\r\n",
        "                all_rows.append(row)\r\n",
        "                counter2+=1\r\n",
        "            else:\r\n",
        "                row.append(0)\r\n",
        "                row.append(0)\r\n",
        "                all_rows.append(row)\r\n",
        "\r\n",
        "    print(tabulate(all_rows, headers, tablefmt=\"grid\"))"
      ],
      "execution_count": 10,
      "outputs": []
    },
    {
      "cell_type": "code",
      "metadata": {
        "colab": {
          "base_uri": "https://localhost:8080/"
        },
        "id": "b13EdH5ACzO5",
        "outputId": "ae337ca5-ffe1-4b5b-e4f2-31e6c5a99780"
      },
      "source": [
        "modelSummary(model)         # Second arg is True by default to give short layer names\r\n",
        "modelSummary(model, False)  # Longer names give more information"
      ],
      "execution_count": 11,
      "outputs": [
        {
          "output_type": "stream",
          "text": [
            "+--------+---------+-----------+----------+\n",
            "|   Num. | Layer   |   Weights |   Biases |\n",
            "+========+=========+===========+==========+\n",
            "|      1 | layer_1 |        18 |        2 |\n",
            "+--------+---------+-----------+----------+\n",
            "|      2 | layer_2 |         0 |        0 |\n",
            "+--------+---------+-----------+----------+\n",
            "|      3 | layer_3 |        72 |        4 |\n",
            "+--------+---------+-----------+----------+\n",
            "|      4 | layer_4 |        32 |        2 |\n",
            "+--------+---------+-----------+----------+\n",
            "|      5 | layer_5 |        72 |        2 |\n",
            "+--------+---------+-----------+----------+\n",
            "|      6 | layer_6 |        18 |        1 |\n",
            "+--------+---------+-----------+----------+\n",
            "+--------+----------------------------------------------------------------------------+-----------+----------+\n",
            "|   Num. | Layer                                                                      |   Weights |   Biases |\n",
            "+========+============================================================================+===========+==========+\n",
            "|      1 | Conv2d(1, 2, kernel_size=(3, 3), stride=(1, 1), padding=(1, 1))            |        18 |        2 |\n",
            "+--------+----------------------------------------------------------------------------+-----------+----------+\n",
            "|      2 | MaxPool2d(kernel_size=2, stride=2, padding=0, dilation=1, ceil_mode=False) |         0 |        0 |\n",
            "+--------+----------------------------------------------------------------------------+-----------+----------+\n",
            "|      3 | Conv2d(2, 4, kernel_size=(3, 3), stride=(1, 1), padding=(1, 1))            |        72 |        4 |\n",
            "+--------+----------------------------------------------------------------------------+-----------+----------+\n",
            "|      4 | ConvTranspose2d(4, 2, kernel_size=(2, 2), stride=(2, 2))                   |        32 |        2 |\n",
            "+--------+----------------------------------------------------------------------------+-----------+----------+\n",
            "|      5 | Conv2d(4, 2, kernel_size=(3, 3), stride=(1, 1), padding=(1, 1))            |        72 |        2 |\n",
            "+--------+----------------------------------------------------------------------------+-----------+----------+\n",
            "|      6 | Conv2d(2, 1, kernel_size=(3, 3), stride=(1, 1), padding=(1, 1))            |        18 |        1 |\n",
            "+--------+----------------------------------------------------------------------------+-----------+----------+\n"
          ],
          "name": "stdout"
        }
      ]
    },
    {
      "cell_type": "markdown",
      "metadata": {
        "id": "1Sqgx4JDaxrx"
      },
      "source": [
        "# Train the Model\r\n",
        "\r\n",
        "PyTorch doesn't have a nice neat training function but this way it's actually easier to customize it to do whatever you want! The two functions immediately following, train() and valid(), will not need to be changed very much, if at all when starting different projects. They are both simple loops that iterate through the batches and use the model to predict."
      ]
    },
    {
      "cell_type": "code",
      "metadata": {
        "id": "3UOwejuNa_P5"
      },
      "source": [
        "# Make a function to train\r\n",
        "def train(device, model, loader_X_tr, loader_Y_tr, optimizer):\r\n",
        "    model.train() # Puts the model in training mode (ex. dropout will happen)\r\n",
        "\r\n",
        "    loss_all = 0\r\n",
        "    n = 0\r\n",
        "    for x, y in zip(loader_X_tr, loader_Y_tr): # iterate through loaders\r\n",
        "        n += x.shape[0]  # count the number of samples used for training\r\n",
        "        x = x.to(device) # move x to the device\r\n",
        "        y = y.to(device) # move y to the device\r\n",
        "        optimizer.zero_grad() # clear the gradients from any previous pass\r\n",
        "        y_pred = model(x)     # predict with the model\r\n",
        "        loss = torch.nn.functional.mse_loss(y, y_pred) # Compute loss\r\n",
        "        loss.backward() # compute gradients\r\n",
        "        loss_all += x.shape[0]*loss.item() # Multiply the \"batch mean loss\" by number of samples in that batch\r\n",
        "        optimizer.step() # Move the weights\r\n",
        "\r\n",
        "    loss_all = loss_all/n # Divide total loss by number of samples to get mean\r\n",
        "    return loss_all"
      ],
      "execution_count": 12,
      "outputs": []
    },
    {
      "cell_type": "code",
      "metadata": {
        "id": "yMOt3CjTenRd"
      },
      "source": [
        "# Make a function to evaluate\r\n",
        "def valid(device, model, loader_X_va, loader_Y_va):\r\n",
        "    model.eval() # Puts the model in eval mode (ex. dropout will NOT happen)\r\n",
        "\r\n",
        "    loss_all = 0\r\n",
        "    n = 0\r\n",
        "    with torch.no_grad(): # Without doing anything about gradients to the model\r\n",
        "        for x, y in zip(loader_X_va, loader_Y_va): # iterate through loaders\r\n",
        "            n += x.shape[0]  # count the number of samples used for training\r\n",
        "            x = x.to(device) # move x to the device\r\n",
        "            y = y.to(device) # move y to the device\r\n",
        "            y_pred = model(x) # predict with the model\r\n",
        "            loss = torch.nn.functional.mse_loss(y, y_pred) # Compute loss\r\n",
        "            loss_all += x.shape[0]*loss.item() # Multiply the \"batch mean loss\" by number of samples in that batch\r\n",
        "    \r\n",
        "    loss_all = loss_all/n # Divide total loss by number of samples to get mean\r\n",
        "    return loss_all"
      ],
      "execution_count": 13,
      "outputs": []
    },
    {
      "cell_type": "code",
      "metadata": {
        "colab": {
          "base_uri": "https://localhost:8080/"
        },
        "id": "cprGN68YfVpC",
        "outputId": "72766299-3ccc-4ac4-c909-1e54c41b7041"
      },
      "source": [
        "# Define a few things for training\r\n",
        "device = torch.device(\"cuda:0\")\r\n",
        "max_epoch  = 200\r\n",
        "batch_size = 10\r\n",
        "learning_rate = 0.01\r\n",
        "Loss_tr    = []\r\n",
        "Loss_va    = []\r\n",
        "update_freq = 10\r\n",
        "\r\n",
        "# We're going to use DataLoaders to feed data into the network in batches\r\n",
        "X_tr_loader = torch.utils.data.DataLoader( X_tr, batch_size=batch_size )\r\n",
        "X_va_loader = torch.utils.data.DataLoader( X_va, batch_size=batch_size )\r\n",
        "Y_tr_loader = torch.utils.data.DataLoader( Y_tr, batch_size=batch_size )\r\n",
        "Y_va_loader = torch.utils.data.DataLoader( Y_va, batch_size=batch_size )\r\n",
        "\r\n",
        "# Make a model and put on the device. Also define an optimizer\r\n",
        "model = MyUNetModel(2,3).to(device)\r\n",
        "optimizer = torch.optim.Adam( model.parameters(), lr=learning_rate ) # Tell it the parameters to optimize\r\n",
        "\r\n",
        "# Start main training loop\r\n",
        "start_time = time.time()\r\n",
        "for epoch in range(1,max_epoch): # For each epoch\r\n",
        "\r\n",
        "    loss_tr = train( device, model, X_tr_loader, Y_tr_loader, optimizer ) # train one epoch\r\n",
        "    loss_va = valid( device, model, X_va_loader, Y_va_loader ) # validate one epoch\r\n",
        "\r\n",
        "    # Store the loss values\r\n",
        "    Loss_tr.append(loss_tr)\r\n",
        "    Loss_va.append(loss_va)\r\n",
        "\r\n",
        "    if epoch % update_freq == 0:\r\n",
        "        elapsed = time.time() - start_time\r\n",
        "        hrs = int(elapsed//3600)\r\n",
        "        mins = int((elapsed-3600*hrs)//60)\r\n",
        "        sec = int((elapsed-3600*hrs-60*mins)//1)\r\n",
        "        print('({:02d}:{:02d}:{:02d}) Epoch {:3d} | Training Loss {:.4f} | Validation Loss {:.4f}'\r\n",
        "        .format( hrs, mins, sec, epoch, loss_tr, loss_va ))\r\n",
        "print(\"Done training!\")"
      ],
      "execution_count": 15,
      "outputs": [
        {
          "output_type": "stream",
          "text": [
            "(00:00:01) Epoch  10 | Training Loss 0.0047 | Validation Loss 0.0040\n",
            "(00:00:02) Epoch  20 | Training Loss 0.0047 | Validation Loss 0.0040\n",
            "(00:00:04) Epoch  30 | Training Loss 0.0047 | Validation Loss 0.0040\n",
            "(00:00:05) Epoch  40 | Training Loss 0.0047 | Validation Loss 0.0040\n",
            "(00:00:06) Epoch  50 | Training Loss 0.0047 | Validation Loss 0.0040\n",
            "(00:00:08) Epoch  60 | Training Loss 0.0047 | Validation Loss 0.0040\n",
            "(00:00:09) Epoch  70 | Training Loss 0.0047 | Validation Loss 0.0040\n",
            "(00:00:10) Epoch  80 | Training Loss 0.0047 | Validation Loss 0.0040\n",
            "(00:00:11) Epoch  90 | Training Loss 0.0047 | Validation Loss 0.0040\n",
            "(00:00:13) Epoch 100 | Training Loss 0.0047 | Validation Loss 0.0040\n",
            "(00:00:14) Epoch 110 | Training Loss 0.0047 | Validation Loss 0.0040\n",
            "(00:00:15) Epoch 120 | Training Loss 0.0047 | Validation Loss 0.0040\n",
            "(00:00:16) Epoch 130 | Training Loss 0.0047 | Validation Loss 0.0040\n",
            "(00:00:18) Epoch 140 | Training Loss 0.0047 | Validation Loss 0.0040\n",
            "(00:00:19) Epoch 150 | Training Loss 0.0047 | Validation Loss 0.0040\n",
            "(00:00:20) Epoch 160 | Training Loss 0.0047 | Validation Loss 0.0040\n",
            "(00:00:22) Epoch 170 | Training Loss 0.0047 | Validation Loss 0.0040\n",
            "(00:00:23) Epoch 180 | Training Loss 0.0047 | Validation Loss 0.0040\n",
            "(00:00:24) Epoch 190 | Training Loss 0.0047 | Validation Loss 0.0040\n",
            "Done training!\n"
          ],
          "name": "stdout"
        }
      ]
    },
    {
      "cell_type": "markdown",
      "metadata": {
        "id": "sG6yIYGLkyi_"
      },
      "source": [
        "# Train the Model (Advanced)\r\n",
        "\r\n",
        "We can do early stopping or print pictures just like in TensorFlow. We just need to code it up instead of using the checkpoint framework"
      ]
    },
    {
      "cell_type": "code",
      "metadata": {
        "colab": {
          "base_uri": "https://localhost:8080/",
          "height": 1000
        },
        "id": "6U9ijNE9kwtC",
        "outputId": "d5e2fd93-ca42-489f-9690-d45251425273"
      },
      "source": [
        "# Define a few things for training\r\n",
        "device = torch.device(\"cuda:0\")\r\n",
        "max_epoch  = 200\r\n",
        "batch_size = 10\r\n",
        "learning_rate = 0.01\r\n",
        "Loss_tr    = []\r\n",
        "Loss_va    = []\r\n",
        "update_freq = 10\r\n",
        "print_pics = True\r\n",
        "patience = 10\r\n",
        "\r\n",
        "# We're going to use DataLoaders to feed data into the network in batches\r\n",
        "X_tr_loader = torch.utils.data.DataLoader( X_tr, batch_size=batch_size )\r\n",
        "X_va_loader = torch.utils.data.DataLoader( X_va, batch_size=batch_size )\r\n",
        "Y_tr_loader = torch.utils.data.DataLoader( Y_tr, batch_size=batch_size )\r\n",
        "Y_va_loader = torch.utils.data.DataLoader( Y_va, batch_size=batch_size )\r\n",
        "\r\n",
        "# Make a model and put on the device. Also define an optimizer\r\n",
        "model = MyUNetModel(2,3).to(device)\r\n",
        "optimizer = torch.optim.Adam( model.parameters(), lr=learning_rate ) # Tell it the parameters to optimize\r\n",
        "\r\n",
        "# Start main training loop\r\n",
        "start_time = time.time()\r\n",
        "loss_va_min = 9999\r\n",
        "pat = patience\r\n",
        "for epoch in range(1,max_epoch): # For each epoch\r\n",
        "\r\n",
        "    loss_tr = train( device, model, X_tr_loader, Y_tr_loader, optimizer ) # train one epoch\r\n",
        "    loss_va = valid( device, model, X_va_loader, Y_va_loader ) # validate one epoch\r\n",
        "\r\n",
        "    # Store the loss values\r\n",
        "    Loss_tr.append(loss_tr)\r\n",
        "    Loss_va.append(loss_va)\r\n",
        "\r\n",
        "    if epoch % update_freq == 0:\r\n",
        "        elapsed = time.time() - start_time\r\n",
        "        hrs = int(elapsed//3600)\r\n",
        "        mins = int((elapsed-3600*hrs)//60)\r\n",
        "        sec = int((elapsed-3600*hrs-60*mins)//1)\r\n",
        "        print('({:02d}:{:02d}:{:02d}) Epoch {:3d} | Training Loss {:.4f} | Validation Loss {:.4f}'\r\n",
        "        .format( hrs, mins, sec, epoch, loss_tr, loss_va ))\r\n",
        "\r\n",
        "        # Print some pictures every so often....\r\n",
        "        if print_pics:\r\n",
        "            model.eval() # Make sure the model is eval mode\r\n",
        "            with torch.no_grad(): # Don't change any gradient info\r\n",
        "                Y_va_pred = model(X_va.to(device)).to('cpu') # Move x to device, predict, and move prediction back to cpu\r\n",
        "                for k in [0]:\r\n",
        "                    displaySample(X_va.numpy(),Y_va_pred.numpy(),Y_va.numpy(),k,A,B)\r\n",
        "                    # X_va, etc. are all tensors. Change to numpys before plotting\r\n",
        "                    # Only tensors on cpu can be converted back to numpy arrays\r\n",
        "\r\n",
        "\r\n",
        "    # Check for early stopping\r\n",
        "    if loss_va <= loss_va_min:\r\n",
        "        loss_va_min = loss_va # update minimum loss\r\n",
        "        best_model = copy.deepcopy(model) # make an actual copy of the model\r\n",
        "        pat = patience # reset patience\r\n",
        "        epoch_best = epoch\r\n",
        "    else:\r\n",
        "        pat -= 1\r\n",
        "        if pat == 0: # If we run out of patience\r\n",
        "            for model_w, best_w in zip(model.parameters(), best_model.parameters()):\r\n",
        "                model_w.data = best_w.data # Loop through all parameters and set to best set\r\n",
        "            print(\"Training stopped early\")\r\n",
        "            print(\"Best epoch was\", epoch_best)\r\n",
        "            break # break for loop\r\n",
        "print(\"Done training!\")\r\n",
        "\r\n",
        "# Finally, save the model from cpu\r\n",
        "#model = model.to('cpu') # Move the model to cpu\r\n",
        "#PATH = 'model.pt'       # Define a save path\r\n",
        "#torch.save( model.state_dict(), PATH ) # Save the model's state_dict(). This has structure, parameters, and gradient information in it"
      ],
      "execution_count": 16,
      "outputs": [
        {
          "output_type": "stream",
          "text": [
            "(00:00:01) Epoch  10 | Training Loss 0.0047 | Validation Loss 0.0040\n"
          ],
          "name": "stdout"
        },
        {
          "output_type": "display_data",
          "data": {
            "image/png": "[encoded data removed]",
            "text/plain": [
              "<Figure size 1080x360 with 6 Axes>"
            ]
          },
          "metadata": {
            "tags": []
          }
        },
        {
          "output_type": "stream",
          "text": [
            "(00:00:02) Epoch  20 | Training Loss 0.0047 | Validation Loss 0.0040\n"
          ],
          "name": "stdout"
        },
        {
          "output_type": "display_data",
          "data": {
            "image/png": "[encoded data removed]",
            "text/plain": [
              "<Figure size 1080x360 with 6 Axes>"
            ]
          },
          "metadata": {
            "tags": []
          }
        },
        {
          "output_type": "stream",
          "text": [
            "(00:00:04) Epoch  30 | Training Loss 0.0047 | Validation Loss 0.0040\n"
          ],
          "name": "stdout"
        },
        {
          "output_type": "display_data",
          "data": {
            "image/png": "[encoded data removed]",
            "text/plain": [
              "<Figure size 1080x360 with 6 Axes>"
            ]
          },
          "metadata": {
            "tags": []
          }
        },
        {
          "output_type": "stream",
          "text": [
            "(00:00:05) Epoch  40 | Training Loss 0.0047 | Validation Loss 0.0040\n"
          ],
          "name": "stdout"
        },
        {
          "output_type": "display_data",
          "data": {
            "image/png": "[encoded data removed]",
            "text/plain": [
              "<Figure size 1080x360 with 6 Axes>"
            ]
          },
          "metadata": {
            "tags": []
          }
        },
        {
          "output_type": "stream",
          "text": [
            "(00:00:07) Epoch  50 | Training Loss 0.0047 | Validation Loss 0.0040\n"
          ],
          "name": "stdout"
        },
        {
          "output_type": "display_data",
          "data": {
            "image/png": "[encoded data removed]",
            "text/plain": [
              "<Figure size 1080x360 with 6 Axes>"
            ]
          },
          "metadata": {
            "tags": []
          }
        },
        {
          "output_type": "stream",
          "text": [
            "(00:00:09) Epoch  60 | Training Loss 0.0047 | Validation Loss 0.0040\n"
          ],
          "name": "stdout"
        },
        {
          "output_type": "display_data",
          "data": {
            "image/png": "[encoded data removed]",
            "text/plain": [
              "<Figure size 1080x360 with 6 Axes>"
            ]
          },
          "metadata": {
            "tags": []
          }
        },
        {
          "output_type": "stream",
          "text": [
            "(00:00:10) Epoch  70 | Training Loss 0.0047 | Validation Loss 0.0040\n"
          ],
          "name": "stdout"
        },
        {
          "output_type": "display_data",
          "data": {
            "image/png": "[encoded data removed]",
            "text/plain": [
              "<Figure size 1080x360 with 6 Axes>"
            ]
          },
          "metadata": {
            "tags": []
          }
        },
        {
          "output_type": "stream",
          "text": [
            "(00:00:12) Epoch  80 | Training Loss 0.0047 | Validation Loss 0.0040\n"
          ],
          "name": "stdout"
        },
        {
          "output_type": "display_data",
          "data": {
            "image/png": "[encoded data removed]",
            "text/plain": [
              "<Figure size 1080x360 with 6 Axes>"
            ]
          },
          "metadata": {
            "tags": []
          }
        },
        {
          "output_type": "stream",
          "text": [
            "Training stopped early\n",
            "Best epoch was 72\n",
            "Done training!\n"
          ],
          "name": "stdout"
        }
      ]
    }
  ]
}